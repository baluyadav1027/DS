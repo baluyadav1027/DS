{
 "cells": [
  {
   "cell_type": "markdown",
   "metadata": {},
   "source": [
    "## 1.1 Write a python program to implement your own myreduce() function which works exactly like python's built-in function reduce()\n",
    "\n",
    "### Solution:-"
   ]
  },
  {
   "cell_type": "code",
   "execution_count": 53,
   "metadata": {},
   "outputs": [],
   "source": [
    "def funcBase(x,y):\n",
    "    return x+y\n",
    "\n",
    "def likeReduce(funcBase,listItems):\n",
    "    returnValue = 0\n",
    "    for v in range(len(listItems)-1):\n",
    "        if v == 0:\n",
    "            returnValue = (funcBase(listItems[v], listItems[v+1]))\n",
    "        else:\n",
    "            returnValue = (funcBase(listItems[v+1], returnValue))\n",
    "    return returnValue\n",
    "    \n",
    "    \n",
    "    "
   ]
  },
  {
   "cell_type": "code",
   "execution_count": 56,
   "metadata": {},
   "outputs": [
    {
     "name": "stdout",
     "output_type": "stream",
     "text": [
      "36\n",
      "47\n"
     ]
    }
   ],
   "source": [
    "#implemented with custom function\n",
    "lstElements = [1,2,3,4,5,6,7,8]\n",
    "print(likeReduce(funcBase, lstElements))\n",
    "\n",
    "#implemented with a lambda function\n",
    "max_find = lambda a,b: a if (a > b) else b\n",
    "lst =[47,11,42,13]\n",
    "print(likeReduce(max_find,lst))"
   ]
  },
  {
   "cell_type": "markdown",
   "metadata": {},
   "source": [
    "## Write a python program to implement your own myfilter() function which works exactly like python's built-in function filter()\n",
    "\n",
    "### Solution:-"
   ]
  },
  {
   "cell_type": "code",
   "execution_count": 60,
   "metadata": {},
   "outputs": [
    {
     "data": {
      "text/plain": [
       "[2, 4, 6, 8]"
      ]
     },
     "execution_count": 60,
     "metadata": {},
     "output_type": "execute_result"
    }
   ],
   "source": [
    "def likeFilter(baseFunc, lstItems):\n",
    "    lstOfItemToReturn = []\n",
    "    for v in range(len(lstItems)):\n",
    "        if baseFunc(lstItems[v]) == True:\n",
    "            lstOfItemToReturn.append(lstItems[v])\n",
    "            \n",
    "    return lstOfItemToReturn\n",
    "\n",
    "def even_check(num):\n",
    "    if num%2 ==0:\n",
    "        return True\n",
    "lst =[1,2,3,4,5,6,7,8]\n",
    "likeFilter(even_check,lst)\n",
    "        "
   ]
  },
  {
   "cell_type": "markdown",
   "metadata": {},
   "source": []
  },
  {
   "cell_type": "markdown",
   "metadata": {},
   "source": [
    "## Implement List Comprehensions to produce the following lists:\n",
    "\n",
    "### Write list comprehensions to produce the following lists\n",
    "\n",
    "### ['A','C','A','D','G','I','L','D']\n",
    "\n",
    "### ['x', 'xx', 'xxx', 'xxxx', 'y', 'yy', 'yyy', 'yyyy', 'z', 'zz', 'zzz', 'zzzz']\n",
    "\n",
    "### ['x', 'y', 'z', 'xx', 'yy', 'zz', 'xx', 'yy', 'zz', 'xxxx', 'yyyy', 'zzzz']\n",
    "\n",
    "### [[2], [3], [4], [3], [4], [5], [4], [5], [6]]\n",
    "\n",
    "### [[2, 3, 4, 5], [3, 4, 5, 6], [4, 5, 6, 7], [5, 6, 7, 8]]\n",
    "\n",
    "### [(1, 1), (2, 1), (3, 1), (1, 2), (2, 2), (3, 2), (1, 3), (2, 3), (3, 3)]\n"
   ]
  },
  {
   "cell_type": "code",
   "execution_count": 8,
   "metadata": {},
   "outputs": [
    {
     "name": "stdout",
     "output_type": "stream",
     "text": [
      "['A', 'C', 'A', 'D', 'G', 'I', 'L', 'D']\n"
     ]
    }
   ],
   "source": [
    "str = 'ACADGILD'\n",
    "splitStr = [letter for letter in str]\n",
    "print(splitStr)"
   ]
  },
  {
   "cell_type": "code",
   "execution_count": 12,
   "metadata": {},
   "outputs": [
    {
     "data": {
      "text/plain": [
       "['x', 'xx', 'xxx', 'xxxx', 'y', 'yy', 'yyy', 'yyyy', 'z', 'zz', 'zzz', 'zzzz']"
      ]
     },
     "execution_count": 12,
     "metadata": {},
     "output_type": "execute_result"
    }
   ],
   "source": [
    "li = ['x','y','z']\n",
    "cnt = [1,2,3,4]\n",
    "finList = [let*c for let in li for c in cnt]\n",
    "finList"
   ]
  },
  {
   "cell_type": "code",
   "execution_count": 14,
   "metadata": {},
   "outputs": [
    {
     "data": {
      "text/plain": [
       "['x', 'y', 'z', 'xx', 'yy', 'zz', 'xxx', 'yyy', 'zzz', 'xxxx', 'yyyy', 'zzzz']"
      ]
     },
     "execution_count": 14,
     "metadata": {},
     "output_type": "execute_result"
    }
   ],
   "source": [
    "finList = [let*c for let in cnt for c in li]\n",
    "finList"
   ]
  },
  {
   "cell_type": "code",
   "execution_count": 60,
   "metadata": {},
   "outputs": [
    {
     "data": {
      "text/plain": [
       "[[2], [3], [4], [3], [4], [5], [4], [5], [6]]"
      ]
     },
     "execution_count": 60,
     "metadata": {},
     "output_type": "execute_result"
    }
   ],
   "source": [
    "lst = [1,2,3]\n",
    "finList = [[num+nums] for nums in lst for num in lst]\n",
    "finList"
   ]
  },
  {
   "cell_type": "code",
   "execution_count": 87,
   "metadata": {},
   "outputs": [
    {
     "data": {
      "text/plain": [
       "[[2, 3, 4, 5], [3, 4, 5, 6], [4, 5, 6, 7], [5, 6, 7, 8]]"
      ]
     },
     "execution_count": 87,
     "metadata": {},
     "output_type": "execute_result"
    }
   ],
   "source": [
    "lst = [2,3,4,5]\n",
    "finList = [[n,n+1,n+2,n+3] for n in lst]\n",
    "finList"
   ]
  },
  {
   "cell_type": "code",
   "execution_count": 88,
   "metadata": {},
   "outputs": [
    {
     "data": {
      "text/plain": [
       "[(1, 1), (1, 2), (1, 3), (2, 1), (2, 2), (2, 3), (3, 1), (3, 2), (3, 3)]"
      ]
     },
     "execution_count": 88,
     "metadata": {},
     "output_type": "execute_result"
    }
   ],
   "source": [
    "lst = [0,1,2]\n",
    "\n",
    "finList = [(ns+1,j+1) for ns in lst for j in lst]\n",
    "finList"
   ]
  },
  {
   "cell_type": "markdown",
   "metadata": {},
   "source": [
    "## 3. Implement a function longestWord() that takes a list of words and returns the longest one."
   ]
  },
  {
   "cell_type": "code",
   "execution_count": 118,
   "metadata": {},
   "outputs": [
    {
     "data": {
      "text/plain": [
       "'asdfasdfasdfasfsadf'"
      ]
     },
     "execution_count": 118,
     "metadata": {},
     "output_type": "execute_result"
    }
   ],
   "source": [
    "lst = ['one','two','three','asdfasdfasdfasfsadf','four']\n",
    "\n",
    "def longestWord(lst):\n",
    "    lngWord = []\n",
    "    for l in range(0,len(lst)):\n",
    "        if(l == len(lst)-1):\n",
    "            return lngWord\n",
    "        else:\n",
    "            if(len(lst[l]) > len(lst[l+1])):\n",
    "                lngWord = lst[l]\n",
    "            else:\n",
    "                lngWord = lst[l+1]\n",
    "    return lngWord\n",
    "\n",
    "longestWord(lst)"
   ]
  },
  {
   "cell_type": "markdown",
   "metadata": {},
   "source": [
    "## Task 2:\n",
    "\n",
    "### 1.1\n",
    "\n",
    "### Write a Python Program (With class concepts) to find the area of the triangle using the below formula.\n",
    "### area = (s*(s-a)*(s-b)*(s-c))**0.5\n",
    "### Function to take the length of the sides of triangle from user should be defined in the parent class and function to calculate the area should be defined in subclass"
   ]
  },
  {
   "cell_type": "code",
   "execution_count": 6,
   "metadata": {},
   "outputs": [
    {
     "name": "stdout",
     "output_type": "stream",
     "text": [
      "18.0\n"
     ]
    }
   ],
   "source": [
    "class Area:\n",
    "    def __init__(self, side1, side2, side3):\n",
    "        self.side1 = side1\n",
    "        self.side2 = side2\n",
    "        self.side3 = side3\n",
    "\n",
    "class Triangle(Area):\n",
    "    def __init__(self, *args):\n",
    "        super(Triangle, self).__init__(*args)\n",
    "        \n",
    "    \n",
    "    def areaOfTriangle(self):\n",
    "        s = (self.side1 + self.side2 + self.side3)/2\n",
    "        area = (s*(s-self.side1)*(s-self.side2)*(s - self.side2))**0.5\n",
    "        return area\n",
    "    \n",
    "    def __str__(self):\n",
    "        return \n",
    "        \n",
    "    \n",
    "    \n",
    "t1 = Triangle(5,6,7)\n",
    "print(t1.areaOfTriangle())"
   ]
  },
  {
   "cell_type": "markdown",
   "metadata": {},
   "source": [
    "### 1.2\n",
    "### Write a function filter_long_words() that takes a list of words and an integer n and returns a list of words that are longer than n"
   ]
  },
  {
   "cell_type": "code",
   "execution_count": 9,
   "metadata": {},
   "outputs": [
    {
     "name": "stdout",
     "output_type": "stream",
     "text": [
      "['adadfasf', 'raatsss', 'pencils']\n"
     ]
    }
   ],
   "source": [
    "def filter_long_words(lst,n):\n",
    "    lstWords = []\n",
    "    lengthOfWord = n\n",
    "    \n",
    "    for lt in lst:\n",
    "        if(len(lt) > n):\n",
    "            lstWords.append(lt)\n",
    "    return lstWords\n",
    "\n",
    "\n",
    "finalList = filter_long_words(['adadfasf','cat','batss','raatsss','pens','pencils'],5)\n",
    "print(finalList)"
   ]
  },
  {
   "cell_type": "markdown",
   "metadata": {},
   "source": []
  },
  {
   "cell_type": "markdown",
   "metadata": {},
   "source": []
  },
  {
   "cell_type": "markdown",
   "metadata": {},
   "source": [
    "### 2.1\n",
    "### Write a Python program using function concept that maps list of words into a list of integers representing the lengths of the corresponding words\n",
    "\n",
    "### Hint: If a list [ab,cde,erty] is passed on to the python function output should come as [2,3,4]\n",
    "### Here 2,3, and 4 are the length of words in the list."
   ]
  },
  {
   "cell_type": "code",
   "execution_count": 11,
   "metadata": {},
   "outputs": [
    {
     "name": "stdout",
     "output_type": "stream",
     "text": [
      "[6, 12, 5, 7, 8]\n"
     ]
    }
   ],
   "source": [
    "def wordsToIntegers(lst):\n",
    "    lstOfIntegers = []\n",
    "    for lt in lst:\n",
    "        lstOfIntegers.append(len(lt))\n",
    "    return lstOfIntegers\n",
    "\n",
    "finalList = wordsToIntegers(['adfafd','adaddfafdadf','words','words22','words333'])\n",
    "print(finalList)"
   ]
  },
  {
   "cell_type": "markdown",
   "metadata": {},
   "source": [
    "## Write a program function which takes a character (i.e a string of length 1) and returns True if it is a vowel, False Otherwise\n",
    "\n"
   ]
  },
  {
   "cell_type": "code",
   "execution_count": 15,
   "metadata": {},
   "outputs": [
    {
     "name": "stdout",
     "output_type": "stream",
     "text": [
      "False\n",
      "True\n"
     ]
    }
   ],
   "source": [
    "def isVowel(ch):\n",
    "    lstVowels = ['a','e','i','o','u']\n",
    "    if ch in lstVowels:\n",
    "        return True\n",
    "    else:\n",
    "        return False\n",
    "    \n",
    "\n",
    "print(isVowel('l'))\n",
    "print(isVowel('a'))"
   ]
  },
  {
   "cell_type": "code",
   "execution_count": null,
   "metadata": {},
   "outputs": [],
   "source": []
  }
 ],
 "metadata": {
  "kernelspec": {
   "display_name": "Python 3",
   "language": "python",
   "name": "python3"
  },
  "language_info": {
   "codemirror_mode": {
    "name": "ipython",
    "version": 3
   },
   "file_extension": ".py",
   "mimetype": "text/x-python",
   "name": "python",
   "nbconvert_exporter": "python",
   "pygments_lexer": "ipython3",
   "version": "3.7.3"
  }
 },
 "nbformat": 4,
 "nbformat_minor": 2
}
